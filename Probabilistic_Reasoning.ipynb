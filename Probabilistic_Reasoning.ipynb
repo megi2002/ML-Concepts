{
 "cells": [
  {
   "cell_type": "markdown",
   "metadata": {},
   "source": [
    "# Probabilistic Reasoning\n",
    "\n",
    "\n"
   ]
  },
  {
   "cell_type": "markdown",
   "metadata": {},
   "source": [
    "# Full Joint Distributions\n",
    "\n",
    "The students' data has been generated automatically, and is not realistic.\n",
    "Let's first load the dataset and examine the first 10 rows."
   ]
  },
  {
   "cell_type": "code",
   "execution_count": 1,
   "metadata": {},
   "outputs": [],
   "source": [
    "import pandas as pd\n",
    "import numpy as np"
   ]
  },
  {
   "cell_type": "code",
   "execution_count": 2,
   "metadata": {
    "scrolled": true
   },
   "outputs": [
    {
     "data": {
      "text/html": [
       "<div>\n",
       "<style scoped>\n",
       "    .dataframe tbody tr th:only-of-type {\n",
       "        vertical-align: middle;\n",
       "    }\n",
       "\n",
       "    .dataframe tbody tr th {\n",
       "        vertical-align: top;\n",
       "    }\n",
       "\n",
       "    .dataframe thead th {\n",
       "        text-align: right;\n",
       "    }\n",
       "</style>\n",
       "<table border=\"1\" class=\"dataframe\">\n",
       "  <thead>\n",
       "    <tr style=\"text-align: right;\">\n",
       "      <th></th>\n",
       "      <th>id</th>\n",
       "      <th>first_name</th>\n",
       "      <th>last_name</th>\n",
       "      <th>SCHOLARSHIP</th>\n",
       "      <th>STUDY</th>\n",
       "      <th>GPA</th>\n",
       "    </tr>\n",
       "  </thead>\n",
       "  <tbody>\n",
       "    <tr>\n",
       "      <th>0</th>\n",
       "      <td>1</td>\n",
       "      <td>Belle</td>\n",
       "      <td>Travis</td>\n",
       "      <td>yes</td>\n",
       "      <td>BIT</td>\n",
       "      <td>7.0</td>\n",
       "    </tr>\n",
       "    <tr>\n",
       "      <th>1</th>\n",
       "      <td>2</td>\n",
       "      <td>Tammie</td>\n",
       "      <td>Longhi</td>\n",
       "      <td>yes</td>\n",
       "      <td>TCS</td>\n",
       "      <td>8.5</td>\n",
       "    </tr>\n",
       "    <tr>\n",
       "      <th>2</th>\n",
       "      <td>3</td>\n",
       "      <td>Cecily</td>\n",
       "      <td>Golborn</td>\n",
       "      <td>no</td>\n",
       "      <td>BIT</td>\n",
       "      <td>6.5</td>\n",
       "    </tr>\n",
       "    <tr>\n",
       "      <th>3</th>\n",
       "      <td>4</td>\n",
       "      <td>Vally</td>\n",
       "      <td>Abramchik</td>\n",
       "      <td>yes</td>\n",
       "      <td>TCS</td>\n",
       "      <td>7.5</td>\n",
       "    </tr>\n",
       "    <tr>\n",
       "      <th>4</th>\n",
       "      <td>5</td>\n",
       "      <td>Hardy</td>\n",
       "      <td>Garman</td>\n",
       "      <td>no</td>\n",
       "      <td>TCS</td>\n",
       "      <td>9.0</td>\n",
       "    </tr>\n",
       "    <tr>\n",
       "      <th>5</th>\n",
       "      <td>6</td>\n",
       "      <td>Harrietta</td>\n",
       "      <td>Doherty</td>\n",
       "      <td>yes</td>\n",
       "      <td>TCS</td>\n",
       "      <td>5.5</td>\n",
       "    </tr>\n",
       "    <tr>\n",
       "      <th>6</th>\n",
       "      <td>7</td>\n",
       "      <td>Cointon</td>\n",
       "      <td>Otton</td>\n",
       "      <td>no</td>\n",
       "      <td>BIT</td>\n",
       "      <td>9.0</td>\n",
       "    </tr>\n",
       "    <tr>\n",
       "      <th>7</th>\n",
       "      <td>8</td>\n",
       "      <td>Joellen</td>\n",
       "      <td>Linge</td>\n",
       "      <td>yes</td>\n",
       "      <td>BIT</td>\n",
       "      <td>9.5</td>\n",
       "    </tr>\n",
       "    <tr>\n",
       "      <th>8</th>\n",
       "      <td>9</td>\n",
       "      <td>Billi</td>\n",
       "      <td>Tadd</td>\n",
       "      <td>yes</td>\n",
       "      <td>TCS</td>\n",
       "      <td>8.5</td>\n",
       "    </tr>\n",
       "    <tr>\n",
       "      <th>9</th>\n",
       "      <td>10</td>\n",
       "      <td>Wallie</td>\n",
       "      <td>Alison</td>\n",
       "      <td>no</td>\n",
       "      <td>TCS</td>\n",
       "      <td>5.5</td>\n",
       "    </tr>\n",
       "  </tbody>\n",
       "</table>\n",
       "</div>"
      ],
      "text/plain": [
       "   id first_name  last_name SCHOLARSHIP STUDY  GPA\n",
       "0   1      Belle     Travis         yes   BIT  7.0\n",
       "1   2     Tammie     Longhi         yes   TCS  8.5\n",
       "2   3     Cecily    Golborn          no   BIT  6.5\n",
       "3   4      Vally  Abramchik         yes   TCS  7.5\n",
       "4   5      Hardy     Garman          no   TCS  9.0\n",
       "5   6  Harrietta    Doherty         yes   TCS  5.5\n",
       "6   7    Cointon      Otton          no   BIT  9.0\n",
       "7   8    Joellen      Linge         yes   BIT  9.5\n",
       "8   9      Billi       Tadd         yes   TCS  8.5\n",
       "9  10     Wallie     Alison          no   TCS  5.5"
      ]
     },
     "execution_count": 2,
     "metadata": {},
     "output_type": "execute_result"
    }
   ],
   "source": [
    "students = pd.read_csv(\"students.csv\")\n",
    "students.head(10)"
   ]
  },
  {
   "cell_type": "markdown",
   "metadata": {},
   "source": [
    "### 1.  \n",
    "Calculating the following probability $$P(SCHOLARSHIP=yes)$$"
   ]
  },
  {
   "cell_type": "code",
   "execution_count": 37,
   "metadata": {},
   "outputs": [
    {
     "data": {
      "text/plain": [
       "0.494"
      ]
     },
     "execution_count": 37,
     "metadata": {},
     "output_type": "execute_result"
    }
   ],
   "source": [
    "(students.SCHOLARSHIP == 'yes').mean()"
   ]
  },
  {
   "cell_type": "markdown",
   "metadata": {},
   "source": [
    "### 2. \n",
    "1.Calculating the following probability\n",
    "$$P(SCHOLARSHIP=yes, GPA>7.5)$$"
   ]
  },
  {
   "cell_type": "code",
   "execution_count": 38,
   "metadata": {},
   "outputs": [
    {
     "data": {
      "text/plain": [
       "0.206"
      ]
     },
     "execution_count": 38,
     "metadata": {},
     "output_type": "execute_result"
    }
   ],
   "source": [
    "((students['SCHOLARSHIP']=='yes') & (students['GPA'] > 7.5 )).mean()"
   ]
  },
  {
   "cell_type": "markdown",
   "metadata": {},
   "source": [
    "2. Calculating the probability $$P(GPA>7.5, SCHOLARSHIP=yes)$$\n",
    "##### The values with 2.1 must be the same"
   ]
  },
  {
   "cell_type": "code",
   "execution_count": 39,
   "metadata": {},
   "outputs": [
    {
     "data": {
      "text/plain": [
       "0.206"
      ]
     },
     "execution_count": 39,
     "metadata": {},
     "output_type": "execute_result"
    }
   ],
   "source": [
    "((students['GPA'] > 7.5 ) & (students['SCHOLARSHIP']=='yes')).mean()"
   ]
  },
  {
   "cell_type": "markdown",
   "metadata": {},
   "source": [
    "### 3.\n",
    "Calculating the following probability\n",
    "$$P(SCHOLARSHIP=yes, GPA>7.5,STUDY=BIT)$$"
   ]
  },
  {
   "cell_type": "code",
   "execution_count": 40,
   "metadata": {
    "scrolled": true
   },
   "outputs": [
    {
     "data": {
      "text/plain": [
       "0.104"
      ]
     },
     "execution_count": 40,
     "metadata": {},
     "output_type": "execute_result"
    }
   ],
   "source": [
    "((students['SCHOLARSHIP']=='yes') & (students['GPA'] > 7.5 ) & (students['STUDY'] == 'BIT' )).mean()"
   ]
  },
  {
   "cell_type": "markdown",
   "metadata": {},
   "source": [
    "# Your answer goes here"
   ]
  },
  {
   "cell_type": "markdown",
   "metadata": {},
   "source": [
    "### 4.\n",
    "Calculating the following conditional probability\n",
    "$$P(SCHOLARSHIP=yes|GPA>7.5)$$"
   ]
  },
  {
   "cell_type": "code",
   "execution_count": 41,
   "metadata": {},
   "outputs": [
    {
     "data": {
      "text/plain": [
       "0.5"
      ]
     },
     "execution_count": 41,
     "metadata": {},
     "output_type": "execute_result"
    }
   ],
   "source": [
    "a = ((students['SCHOLARSHIP']=='yes') & (students['GPA'] > 7.5 )).mean()\n",
    "b = (students['GPA'] > 7.5 ).mean()\n",
    "a/b"
   ]
  },
  {
   "cell_type": "markdown",
   "metadata": {},
   "source": [
    "### 5.\n",
    "Calculating the same probability as in question 4 by using the Bayes rule.\n",
    "\n",
    "\n",
    "First, we calculate $$P(GPA>7.5|SCHOLARSHIP=yes)$$ then use it to calculate \n",
    "$$P(SCHOLARSHIP=yes|GPA>7.5)$$"
   ]
  },
  {
   "cell_type": "code",
   "execution_count": 3,
   "metadata": {},
   "outputs": [
    {
     "name": "stdout",
     "output_type": "stream",
     "text": [
      "0.5\n"
     ]
    }
   ],
   "source": [
    "x = ((students['GPA'] > 7.5 ) & (students['SCHOLARSHIP']=='yes')).mean()\n",
    "y = (students['SCHOLARSHIP']=='yes').mean()\n",
    "prob_b_given_a = x/y\n",
    "prob_a = (students.SCHOLARSHIP == 'yes').mean()\n",
    "prob_b = (students.GPA > 7.5).mean()\n",
    "prob_a_given_b = (prob_b_given_a*prob_a)/prob_b\n",
    "print(prob_a_given_b)"
   ]
  },
  {
   "cell_type": "markdown",
   "metadata": {},
   "source": [
    "### 6.\n",
    "A vector of probabilities for the following expression $$P(SCHOLARSHIP|STUDY)$$"
   ]
  },
  {
   "cell_type": "code",
   "execution_count": 43,
   "metadata": {},
   "outputs": [
    {
     "data": {
      "text/html": [
       "<div>\n",
       "<style scoped>\n",
       "    .dataframe tbody tr th:only-of-type {\n",
       "        vertical-align: middle;\n",
       "    }\n",
       "\n",
       "    .dataframe tbody tr th {\n",
       "        vertical-align: top;\n",
       "    }\n",
       "\n",
       "    .dataframe thead th {\n",
       "        text-align: right;\n",
       "    }\n",
       "</style>\n",
       "<table border=\"1\" class=\"dataframe\">\n",
       "  <thead>\n",
       "    <tr style=\"text-align: right;\">\n",
       "      <th>STUDY</th>\n",
       "      <th>BIT</th>\n",
       "      <th>TCS</th>\n",
       "      <th>All</th>\n",
       "    </tr>\n",
       "    <tr>\n",
       "      <th>SCHOLARSHIP</th>\n",
       "      <th></th>\n",
       "      <th></th>\n",
       "      <th></th>\n",
       "    </tr>\n",
       "  </thead>\n",
       "  <tbody>\n",
       "    <tr>\n",
       "      <th>no</th>\n",
       "      <td>0.481013</td>\n",
       "      <td>0.528517</td>\n",
       "      <td>0.506</td>\n",
       "    </tr>\n",
       "    <tr>\n",
       "      <th>yes</th>\n",
       "      <td>0.518987</td>\n",
       "      <td>0.471483</td>\n",
       "      <td>0.494</td>\n",
       "    </tr>\n",
       "  </tbody>\n",
       "</table>\n",
       "</div>"
      ],
      "text/plain": [
       "STUDY             BIT       TCS    All\n",
       "SCHOLARSHIP                           \n",
       "no           0.481013  0.528517  0.506\n",
       "yes          0.518987  0.471483  0.494"
      ]
     },
     "execution_count": 43,
     "metadata": {},
     "output_type": "execute_result"
    }
   ],
   "source": [
    "pd.crosstab(students.SCHOLARSHIP, students.STUDY, margins=True, normalize='columns')"
   ]
  },
  {
   "cell_type": "markdown",
   "metadata": {},
   "source": [
    "### 7.\n",
    "A vector of probabilities for the following expression $$ P (STUDY|SCHOLARSHIP)$$  "
   ]
  },
  {
   "cell_type": "code",
   "execution_count": 44,
   "metadata": {},
   "outputs": [
    {
     "data": {
      "text/html": [
       "<div>\n",
       "<style scoped>\n",
       "    .dataframe tbody tr th:only-of-type {\n",
       "        vertical-align: middle;\n",
       "    }\n",
       "\n",
       "    .dataframe tbody tr th {\n",
       "        vertical-align: top;\n",
       "    }\n",
       "\n",
       "    .dataframe thead th {\n",
       "        text-align: right;\n",
       "    }\n",
       "</style>\n",
       "<table border=\"1\" class=\"dataframe\">\n",
       "  <thead>\n",
       "    <tr style=\"text-align: right;\">\n",
       "      <th>SCHOLARSHIP</th>\n",
       "      <th>no</th>\n",
       "      <th>yes</th>\n",
       "      <th>All</th>\n",
       "    </tr>\n",
       "    <tr>\n",
       "      <th>STUDY</th>\n",
       "      <th></th>\n",
       "      <th></th>\n",
       "      <th></th>\n",
       "    </tr>\n",
       "  </thead>\n",
       "  <tbody>\n",
       "    <tr>\n",
       "      <th>BIT</th>\n",
       "      <td>0.450593</td>\n",
       "      <td>0.497976</td>\n",
       "      <td>0.474</td>\n",
       "    </tr>\n",
       "    <tr>\n",
       "      <th>TCS</th>\n",
       "      <td>0.549407</td>\n",
       "      <td>0.502024</td>\n",
       "      <td>0.526</td>\n",
       "    </tr>\n",
       "  </tbody>\n",
       "</table>\n",
       "</div>"
      ],
      "text/plain": [
       "SCHOLARSHIP        no       yes    All\n",
       "STUDY                                 \n",
       "BIT          0.450593  0.497976  0.474\n",
       "TCS          0.549407  0.502024  0.526"
      ]
     },
     "execution_count": 44,
     "metadata": {},
     "output_type": "execute_result"
    }
   ],
   "source": [
    "pd.crosstab(students.STUDY, students.SCHOLARSHIP, margins=True, normalize='columns')"
   ]
  },
  {
   "cell_type": "markdown",
   "metadata": {},
   "source": [
    "### 8. \n",
    "Recreating full joint probability distribution, considering that the GPA variable is also binary, either GPA>7.5 or GPA<=7.5\n",
    "The random variables we are interested in are SCHOLARSHIP, STUDY and GPA."
   ]
  },
  {
   "cell_type": "code",
   "execution_count": 45,
   "metadata": {},
   "outputs": [
    {
     "name": "stdout",
     "output_type": "stream",
     "text": [
      "SCHOLARSHIP  STUDY  GPA  \n",
      "no           TCS    False    0.160\n",
      "yes          TCS    False    0.146\n",
      "             BIT    False    0.142\n",
      "no           BIT    False    0.140\n",
      "             TCS    True     0.118\n",
      "yes          BIT    True     0.104\n",
      "             TCS    True     0.102\n",
      "no           BIT    True     0.088\n",
      "dtype: float64\n",
      "1.0\n"
     ]
    }
   ],
   "source": [
    "table = students.value_counts([students.SCHOLARSHIP, students.STUDY, students.GPA > 7.5], normalize=True)\n",
    "print(table)\n",
    "print(table.sum())"
   ]
  },
  {
   "cell_type": "markdown",
   "metadata": {},
   "source": [
    "## Balls and Urns\n",
    "\n",
    "First, we represent how many urns we have and how many balls of each type they contain."
   ]
  },
  {
   "cell_type": "code",
   "execution_count": 46,
   "metadata": {},
   "outputs": [],
   "source": [
    "import numpy as np\n",
    "from scipy.stats import binom\n",
    "\n",
    "urns = np.array([[5,3],[3,5]])\n",
    "numUrns = urns.shape[0]\n",
    "priors = np.ones(numUrns) / numUrns"
   ]
  },
  {
   "cell_type": "markdown",
   "metadata": {},
   "source": [
    "We draw balls with replacement. The first thing we do is to compute the probability of drawing $n$ white balls and $m$ blue balls, with replacement.\n",
    "\n",
    "**1** We implement a function called \"likelihood\" which takes as parameters\n",
    "1. The index of the urn\n",
    "1. The number of white balls drawn\n",
    "1. The number of blue balls drawn\n",
    "    \n",
    "The distribution for this kind of observation is called the Binomial distribution."
   ]
  },
  {
   "cell_type": "code",
   "execution_count": 47,
   "metadata": {},
   "outputs": [
    {
     "name": "stdout",
     "output_type": "stream",
     "text": [
      "0.20599365234375\n"
     ]
    }
   ],
   "source": [
    "def _sum(arr):\n",
    "    sum = 0\n",
    "    for i in arr:\n",
    "        sum = sum + i\n",
    " \n",
    "    return(sum)\n",
    "\n",
    "def likelihood(urnIndx, whitedrawn, blueDrawn):\n",
    "    k = whitedrawn;\n",
    "    n = whitedrawn + blueDrawn;\n",
    "    urn = urns[urnIndx];\n",
    "    p = urn[0]/_sum(urn);\n",
    "    return(binom.pmf(k, n, p))\n",
    "\n",
    "print(likelihood(1,3,2))"
   ]
  },
  {
   "cell_type": "markdown",
   "metadata": {},
   "source": [
    "Now, we compute the posterior probability of having used the first urn given the observed number of white and blue balls. \n",
    "\n",
    "**2** We implement a function called \"posterior\" which takes the same parameters as the \"likelihood\" function. The implementation works for any number of urns.\n",
    "\n",
    "We calculate:\n",
    "\n",
    "What is the posterior probability of having picked urn 1 if we drew 3 white and 2 blue balls? What about 1 white and 3 blue balls?"
   ]
  },
  {
   "cell_type": "code",
   "execution_count": 48,
   "metadata": {},
   "outputs": [
    {
     "name": "stdout",
     "output_type": "stream",
     "text": [
      "0.6249999999999999\n",
      "0.26470588235294107\n"
     ]
    }
   ],
   "source": [
    "# Your answer comes here\n",
    "def pre_posterior(urnIndx, whitedrawn, blueDrawn):\n",
    "\n",
    "    return(likelihood(urnIndx, whitedrawn, blueDrawn)*priors[urnIndx])\n",
    "\n",
    "def posterior(urnIndx, whitedrawn, blueDrawn):\n",
    " \n",
    "    evidence = 0\n",
    "    values = range(numUrns)\n",
    "    \n",
    "    for i in values:\n",
    "        evidence = evidence + pre_posterior(i, whitedrawn, blueDrawn)\n",
    "    \n",
    "    return(pre_posterior(urnIndx, whitedrawn, blueDrawn) / evidence)\n",
    "\n",
    "print(posterior(0,3,2))\n",
    "print(posterior(0,1,3))\n"
   ]
  },
  {
   "cell_type": "markdown",
   "metadata": {},
   "source": [
    "## Entering college\n",
    "\n",
    "We encode the probabilities of being smart, and an athlete and compute conditional probabilities."
   ]
  },
  {
   "cell_type": "code",
   "execution_count": 49,
   "metadata": {},
   "outputs": [],
   "source": [
    "pS = 0.4\n",
    "pA = 0.1\n",
    "pC_SA = np.array([[ 0.91, 0.9],[0.9, 0.04]])"
   ]
  },
  {
   "cell_type": "markdown",
   "metadata": {},
   "source": [
    "**1** We implement a function that computes the joint probability of being smart (or not), entering college (or not) and being an athlete (or not). This functions takes three boolean parameters:\n",
    "1. s, indicating whether the person is smart (True) or not Falss\n",
    "1. c, indicating whether the person entered college\n",
    "1. a, indicating whether the person is an athlete\n"
   ]
  },
  {
   "cell_type": "code",
   "execution_count": 50,
   "metadata": {},
   "outputs": [
    {
     "name": "stdout",
     "output_type": "stream",
     "text": [
      "0.03640000000000001\n"
     ]
    }
   ],
   "source": [
    "def joint_probability(s, c, a):\n",
    "    prob_c_given_a_s=pC_SA[s][a]\n",
    "    prob_s=0.4\n",
    "    prob_a=0.1\n",
    "    joint_probability=prob_c_given_a_s*prob_a*prob_s\n",
    "    return joint_probability\n",
    "\n",
    "print(joint_probability(0,0,0))\n",
    "    "
   ]
  },
  {
   "cell_type": "markdown",
   "metadata": {},
   "source": [
    "**2** We compute the probability that somebody is smart given that that person is an athlete, using marginalisation:\n",
    "\n",
    "$$ p(s|a) = \\frac{p(s,a)}{p(a)} $$\n",
    "\n",
    "where\n",
    "\n",
    "$$p(s,a) = p(s,c,a) + p(s,\\neg c, a)$$"
   ]
  },
  {
   "cell_type": "code",
   "execution_count": 51,
   "metadata": {},
   "outputs": [
    {
     "name": "stdout",
     "output_type": "stream",
     "text": [
      "0.4000000000000001\n"
     ]
    }
   ],
   "source": [
    "prob_c_given_a_s=pC_SA[0][0]\n",
    "prob_not_c_given_a_s=1 - pC_SA[0][0]\n",
    "\n",
    "prob_s_c_a = prob_c_given_a_s * 0.4 * 0.1\n",
    "prob_s_not_c_a = prob_not_c_given_a_s* 0.4 * 0.1\n",
    "prob_s_a = prob_s_c_a + prob_s_not_c_a\n",
    "\n",
    "prob_s_given_a=prob_s_a/0.1\n",
    "\n",
    "print(prob_s_given_a)"
   ]
  },
  {
   "cell_type": "markdown",
   "metadata": {},
   "source": [
    "**3** Next, we compute the probability that somebody is smart given that that person is in college\n",
    "\n",
    "$$ P(s|c) = \\frac{P(s,c)}{P(c)} = \\frac{P(s,c,a) + P(s,c,\\neg a)}{P(s,c,a)+P(s,c,\\neg a)+P(\\neg s,c,a) + P(\\neg S,c,\\neg a)}$$"
   ]
  },
  {
   "cell_type": "code",
   "execution_count": 52,
   "metadata": {},
   "outputs": [
    {
     "name": "stdout",
     "output_type": "stream",
     "text": [
      "0.826605504587156\n"
     ]
    }
   ],
   "source": [
    "s_c_a = pC_SA[0][0] * 0.4 * 0.1\n",
    "s_c_not_a = pC_SA[0][1] * 0.4 * 0.9\n",
    "not_s_c_a = pC_SA[1][0] * 0.6 * 0.1\n",
    "not_s_c_not_a = pC_SA[1][1] * 0.6 * 0.9\n",
    "s_given_c = (s_c_a + s_c_not_a) / (s_c_a + s_c_not_a + not_s_c_a + not_s_c_not_a)\n",
    "\n",
    "print(s_given_c)"
   ]
  },
  {
   "cell_type": "markdown",
   "metadata": {},
   "source": [
    "**4** Finally, we compute the probability that a person is smart, given that this person is in college and an athlete."
   ]
  },
  {
   "cell_type": "code",
   "execution_count": 53,
   "metadata": {},
   "outputs": [
    {
     "name": "stdout",
     "output_type": "stream",
     "text": [
      "0.40265486725663724\n"
     ]
    }
   ],
   "source": [
    "s_c_a=pC_SA[0][0] * 0.4 * 0.1\n",
    "not_s_c_a = pC_SA[1][0] * 0.6 * 0.1\n",
    "c_a= s_c_a + not_s_c_a\n",
    "\n",
    "s_given_c_a= s_c_a/c_a\n",
    "\n",
    "print(s_given_c_a)"
   ]
  },
  {
   "cell_type": "markdown",
   "metadata": {},
   "source": [
    "## Bayesian Networks\n",
    "\n",
    "##### In the first part, we work with pyAgrum to create a simple Bayesian Network."
   ]
  },
  {
   "cell_type": "markdown",
   "metadata": {},
   "source": [
    "We start with the necessary imports"
   ]
  },
  {
   "cell_type": "code",
   "execution_count": 20,
   "metadata": {},
   "outputs": [],
   "source": [
    "import pyAgrum as gum\n",
    "import os\n",
    "import pyAgrum.lib.notebook as gnb"
   ]
  },
  {
   "cell_type": "markdown",
   "metadata": {},
   "source": [
    "Now we create a new Bayesian Network BN, called 'college', and store it in the variable bayesian_net."
   ]
  },
  {
   "cell_type": "code",
   "execution_count": 21,
   "metadata": {},
   "outputs": [
    {
     "name": "stdout",
     "output_type": "stream",
     "text": [
      "BN{nodes: 0, arcs: 0, domainSize: 1, dim: 0, mem: 0o}\n"
     ]
    }
   ],
   "source": [
    "bayesian_net=gum.BayesNet('college')\n",
    "print(bayesian_net)"
   ]
  },
  {
   "cell_type": "markdown",
   "metadata": {},
   "source": [
    "In this BN, we will have three random variables or nodes (S, A and C). We specify the possible value each random variable will take, in our case, all random variables will be set to either true or false (order matters here)."
   ]
  },
  {
   "cell_type": "code",
   "execution_count": 22,
   "metadata": {},
   "outputs": [],
   "source": [
    "S=bayesian_net.add(gum.LabelizedVariable('S','Smart',[\"true\",\"false\"]))\n",
    "A=bayesian_net.add(gum.LabelizedVariable('A','Athlete',[\"true\",\"false\"]))\n",
    "C=bayesian_net.add(gum.LabelizedVariable('C','Collete',[\"true\",\"false\"]))"
   ]
  },
  {
   "cell_type": "markdown",
   "metadata": {},
   "source": [
    "We now proceed to connect the nodes. Both nodes S and A are connected to C."
   ]
  },
  {
   "cell_type": "code",
   "execution_count": 23,
   "metadata": {},
   "outputs": [],
   "source": [
    "bayesian_net.addArc(S,C)\n",
    "bayesian_net.addArc(A,C)\n"
   ]
  },
  {
   "cell_type": "markdown",
   "metadata": {},
   "source": [
    "We can easily visualize our Bayesian Network to check whether its structure is correct."
   ]
  },
  {
   "cell_type": "code",
   "execution_count": 24,
   "metadata": {},
   "outputs": [
    {
     "data": {
      "text/html": [
       "<svg xmlns=\"http://www.w3.org/2000/svg\" xmlns:xlink=\"http://www.w3.org/1999/xlink\" width=\"134pt\" height=\"116pt\" viewBox=\"0.00 0.00 134.00 116.00\">\n",
       "<g id=\"graph0\" class=\"graph\" transform=\"scale(1 1) rotate(0) translate(4 112)\">\n",
       "<title>G</title>\n",
       "<!-- C -->\n",
       "<g id=\"node1\" class=\"node\"><title>C</title>\n",
       "<g id=\"a_node1\"><a xlink:title=\"(2) C\">\n",
       "<ellipse fill=\"#404040\" stroke=\"black\" cx=\"63\" cy=\"-18\" rx=\"27\" ry=\"18\"/>\n",
       "<text text-anchor=\"middle\" x=\"63\" y=\"-14.3\" font-family=\"Times New Roman,serif\" font-size=\"14.00\" fill=\"white\">C</text>\n",
       "</a>\n",
       "</g>\n",
       "</g>\n",
       "<!-- A -->\n",
       "<g id=\"node2\" class=\"node\"><title>A</title>\n",
       "<g id=\"a_node2\"><a xlink:title=\"(1) A\">\n",
       "<ellipse fill=\"#404040\" stroke=\"black\" cx=\"27\" cy=\"-90\" rx=\"27\" ry=\"18\"/>\n",
       "<text text-anchor=\"middle\" x=\"27\" y=\"-86.3\" font-family=\"Times New Roman,serif\" font-size=\"14.00\" fill=\"white\">A</text>\n",
       "</a>\n",
       "</g>\n",
       "</g>\n",
       "<!-- A&#45;&gt;C -->\n",
       "<g id=\"edge2\" class=\"edge\"><title>A-&gt;C</title>\n",
       "<g id=\"a_edge2\"><a xlink:title=\"(1, 2) : \">\n",
       "<path fill=\"none\" stroke=\"#4a4a4a\" d=\"M35.3496,-72.7646C39.7115,-64.2831 45.1469,-53.7144 50.0413,-44.1974\"/>\n",
       "<polygon fill=\"#4a4a4a\" stroke=\"#4a4a4a\" points=\"53.2346,-45.6409 54.6957,-35.1473 47.0096,-42.4395 53.2346,-45.6409\"/>\n",
       "</a>\n",
       "</g>\n",
       "</g>\n",
       "<!-- S -->\n",
       "<g id=\"node3\" class=\"node\"><title>S</title>\n",
       "<g id=\"a_node3\"><a xlink:title=\"(0) S\">\n",
       "<ellipse fill=\"#404040\" stroke=\"black\" cx=\"99\" cy=\"-90\" rx=\"27\" ry=\"18\"/>\n",
       "<text text-anchor=\"middle\" x=\"99\" y=\"-86.3\" font-family=\"Times New Roman,serif\" font-size=\"14.00\" fill=\"white\">S</text>\n",
       "</a>\n",
       "</g>\n",
       "</g>\n",
       "<!-- S&#45;&gt;C -->\n",
       "<g id=\"edge1\" class=\"edge\"><title>S-&gt;C</title>\n",
       "<g id=\"a_edge1\"><a xlink:title=\"(0, 2) : \">\n",
       "<path fill=\"none\" stroke=\"#4a4a4a\" d=\"M90.6504,-72.7646C86.2885,-64.2831 80.8531,-53.7144 75.9587,-44.1974\"/>\n",
       "<polygon fill=\"#4a4a4a\" stroke=\"#4a4a4a\" points=\"78.9904,-42.4395 71.3043,-35.1473 72.7654,-45.6409 78.9904,-42.4395\"/>\n",
       "</a>\n",
       "</g>\n",
       "</g>\n",
       "</g>\n",
       "</svg>"
      ],
      "text/plain": [
       "(pyAgrum.BayesNet<double>@0000024DE474B6A0) BN{nodes: 3, arcs: 2, domainSize: 8, dim: 6, mem: 96o}"
      ]
     },
     "execution_count": 24,
     "metadata": {},
     "output_type": "execute_result"
    }
   ],
   "source": [
    "bayesian_net"
   ]
  },
  {
   "cell_type": "markdown",
   "metadata": {},
   "source": [
    "We now proceed to fill the conditional probability tables for all our nodes."
   ]
  },
  {
   "cell_type": "code",
   "execution_count": 25,
   "metadata": {},
   "outputs": [
    {
     "data": {
      "text/html": [
       "<table style=\"border:1px solid black;\">\n",
       "<tr style='border:1px solid black;color:black;background-color:#808080'>\n",
       "      <th colspan='2'><center>A</center></th></tr>\n",
       "<tr><th style='border:1px solid black;border-bottom-style: double;color:black;background-color:#BBBBBB'>\n",
       "      <center>true</center></th><th style='border:1px solid black;border-bottom-style: double;color:black;background-color:#BBBBBB'>\n",
       "      <center>false</center></th></tr>\n",
       "<tr><td style='color:black;background-color:#f28b64;text-align:right;'>0.1000</td><td style='color:black;background-color:#8bf264;text-align:right;'>0.9000</td></tr>\n",
       "</table>"
      ],
      "text/plain": [
       "(pyAgrum.Potential<double>@0000024DE46ADE20) \n",
       "  A                |\n",
       "true     |false    |\n",
       "---------|---------|\n",
       " 0.1000  | 0.9000  |"
      ]
     },
     "execution_count": 25,
     "metadata": {},
     "output_type": "execute_result"
    }
   ],
   "source": [
    "bayesian_net.cpt(A).fillWith([0.1,0.9])"
   ]
  },
  {
   "cell_type": "code",
   "execution_count": 26,
   "metadata": {},
   "outputs": [
    {
     "data": {
      "text/html": [
       "<table style=\"border:1px solid black;\">\n",
       "<tr style='border:1px solid black;color:black;background-color:#808080'>\n",
       "      <th colspan='2'><center>S</center></th></tr>\n",
       "<tr><th style='border:1px solid black;border-bottom-style: double;color:black;background-color:#BBBBBB'>\n",
       "      <center>true</center></th><th style='border:1px solid black;border-bottom-style: double;color:black;background-color:#BBBBBB'>\n",
       "      <center>false</center></th></tr>\n",
       "<tr><td style='color:black;background-color:#cbb264;text-align:right;'>0.4000</td><td style='color:black;background-color:#b2cb64;text-align:right;'>0.6000</td></tr>\n",
       "</table>"
      ],
      "text/plain": [
       "(pyAgrum.Potential<double>@0000024DE46ADE80) \n",
       "  S                |\n",
       "true     |false    |\n",
       "---------|---------|\n",
       " 0.4000  | 0.6000  |"
      ]
     },
     "execution_count": 26,
     "metadata": {},
     "output_type": "execute_result"
    }
   ],
   "source": [
    "bayesian_net.cpt(S).fillWith([0.4,0.6])"
   ]
  },
  {
   "cell_type": "code",
   "execution_count": 27,
   "metadata": {},
   "outputs": [
    {
     "data": {
      "text/plain": [
       "('C', 'S', 'A')"
      ]
     },
     "execution_count": 27,
     "metadata": {},
     "output_type": "execute_result"
    }
   ],
   "source": [
    "bayesian_net.cpt(C).names"
   ]
  },
  {
   "cell_type": "code",
   "execution_count": 28,
   "metadata": {},
   "outputs": [
    {
     "data": {
      "text/html": [
       "<table style=\"border:1px solid black;\">\n",
       "<tr><th colspan='2'></th>\n",
       "      <th colspan='2' style='border:1px solid black;color:black;background-color:#808080;'><center>C</center>\n",
       "      </th></tr>\n",
       "<tr><th style='border:1px solid black;color:black;background-color:#808080'><center>A</center></th><th style='border:1px solid black;color:black;background-color:#808080'><center>S</center></th><th style='border:1px solid black;border-bottom-style: double;color:black;background-color:#BBBBBB'>\n",
       "      <center>true</center></th><th style='border:1px solid black;border-bottom-style: double;color:black;background-color:#BBBBBB'>\n",
       "      <center>false</center></th></tr>\n",
       "<tr><th style='border:1px solid black;color:black;background-color:#BBBBBB;' rowspan = '2'>\n",
       "            <center>true</center></th><th style='border:1px solid black;color:black;background-color:#BBBBBB'><center>true</center></th><td style='color:black;background-color:#8af364;text-align:right;'>0.9100</td><td style='color:black;background-color:#f38a64;text-align:right;'>0.0900</td></tr>\n",
       "<tr><th style='border:1px solid black;color:black;background-color:#BBBBBB'><center>false</center></th><td style='color:black;background-color:#8bf264;text-align:right;'>0.9000</td><td style='color:black;background-color:#f28b64;text-align:right;'>0.1000</td></tr>\n",
       "<tr><th style='border:1px solid black;color:black;background-color:#BBBBBB;' rowspan = '2'>\n",
       "            <center>false</center></th><th style='border:1px solid black;color:black;background-color:#BBBBBB'><center>true</center></th><td style='color:black;background-color:#8bf264;text-align:right;'>0.9000</td><td style='color:black;background-color:#f28b64;text-align:right;'>0.1000</td></tr>\n",
       "<tr><th style='border:1px solid black;color:black;background-color:#BBBBBB'><center>false</center></th><td style='color:black;background-color:#f98464;text-align:right;'>0.0400</td><td style='color:black;background-color:#84f964;text-align:right;'>0.9600</td></tr>\n",
       "</table>"
      ],
      "text/plain": [
       "(pyAgrum.Potential<double>@0000024DE46AE320) \n",
       "             ||  C                |\n",
       "S     |A     ||true     |false    |\n",
       "------|------||---------|---------|\n",
       "true  |true  || 0.9100  | 0.0900  |\n",
       "false |true  || 0.9000  | 0.1000  |\n",
       "true  |false || 0.9000  | 0.1000  |\n",
       "false |false || 0.0400  | 0.9600  |"
      ]
     },
     "execution_count": 28,
     "metadata": {},
     "output_type": "execute_result"
    }
   ],
   "source": [
    "bayesian_net.cpt(C)[0,0,:] = [0.91, 0.09] # T=a1,A=new\n",
    "bayesian_net.cpt(C)[0,1,:] = [0.9, 0.1] # T=a1,A=mid\n",
    "bayesian_net.cpt(C)[1,0,:] = [0.9, 0.1] # T=a1,A=old\n",
    "bayesian_net.cpt(C)[1,1,:] = [0.04, 0.96] # T=a2,A=new\n",
    "bayesian_net.cpt(C)"
   ]
  },
  {
   "cell_type": "markdown",
   "metadata": {},
   "source": [
    "Saving the model."
   ]
  },
  {
   "cell_type": "code",
   "execution_count": 29,
   "metadata": {},
   "outputs": [],
   "source": [
    "gum.saveBN(bayesian_net,os.path.join(\"./\",\"college.bif\"))"
   ]
  },
  {
   "cell_type": "markdown",
   "metadata": {},
   "source": [
    "Now we proceed to make some inferences using our Bayesian network."
   ]
  },
  {
   "cell_type": "code",
   "execution_count": 30,
   "metadata": {},
   "outputs": [],
   "source": [
    "ie=gum.LazyPropagation(bayesian_net)"
   ]
  },
  {
   "cell_type": "markdown",
   "metadata": {},
   "source": [
    "Calculating $P(s|a,c) and P(\\neg s|a,c)$"
   ]
  },
  {
   "cell_type": "code",
   "execution_count": 31,
   "metadata": {
    "scrolled": false
   },
   "outputs": [
    {
     "data": {
      "text/html": [
       "<table style=\"border:1px solid black;\">\n",
       "<tr style='border:1px solid black;color:black;background-color:#808080'>\n",
       "      <th colspan='2'><center>S</center></th></tr>\n",
       "<tr><th style='border:1px solid black;border-bottom-style: double;color:black;background-color:#BBBBBB'>\n",
       "      <center>true</center></th><th style='border:1px solid black;border-bottom-style: double;color:black;background-color:#BBBBBB'>\n",
       "      <center>false</center></th></tr>\n",
       "<tr><td style='color:black;background-color:#cbb264;text-align:right;'>0.4027</td><td style='color:black;background-color:#b2cb64;text-align:right;'>0.5973</td></tr>\n",
       "</table>"
      ],
      "text/plain": [
       "(pyAgrum.Potential<double>@0000024DE46AE280) \n",
       "  S                |\n",
       "true     |false    |\n",
       "---------|---------|\n",
       " 0.4027  | 0.5973  |"
      ]
     },
     "execution_count": 31,
     "metadata": {},
     "output_type": "execute_result"
    }
   ],
   "source": [
    "ie.makeInference()\n",
    "ie.setEvidence({'A':0, 'C':0})\n",
    "ie.makeInference()\n",
    "ie.posterior(S)"
   ]
  },
  {
   "cell_type": "markdown",
   "metadata": {},
   "source": [
    "Calculating $P(s|c) and P(\\neg s|c)$"
   ]
  },
  {
   "cell_type": "code",
   "execution_count": 32,
   "metadata": {},
   "outputs": [
    {
     "data": {
      "text/html": [
       "<table style=\"border:1px solid black;\">\n",
       "<tr style='border:1px solid black;color:black;background-color:#808080'>\n",
       "      <th colspan='2'><center>S</center></th></tr>\n",
       "<tr><th style='border:1px solid black;border-bottom-style: double;color:black;background-color:#BBBBBB'>\n",
       "      <center>true</center></th><th style='border:1px solid black;border-bottom-style: double;color:black;background-color:#BBBBBB'>\n",
       "      <center>false</center></th></tr>\n",
       "<tr><td style='color:black;background-color:#95e864;text-align:right;'>0.8266</td><td style='color:black;background-color:#e89564;text-align:right;'>0.1734</td></tr>\n",
       "</table>"
      ],
      "text/plain": [
       "(pyAgrum.Potential<double>@0000024DE46AE0E0) \n",
       "  S                |\n",
       "true     |false    |\n",
       "---------|---------|\n",
       " 0.8266  | 0.1734  |"
      ]
     },
     "execution_count": 32,
     "metadata": {},
     "output_type": "execute_result"
    }
   ],
   "source": [
    "ie.makeInference()\n",
    "ie.setEvidence({'C':0})\n",
    "ie.makeInference()\n",
    "ie.posterior(S)"
   ]
  },
  {
   "cell_type": "markdown",
   "metadata": {},
   "source": [
    "Calculating $P(s|a) and P(\\neg s|a)$"
   ]
  },
  {
   "cell_type": "code",
   "execution_count": 33,
   "metadata": {},
   "outputs": [
    {
     "data": {
      "text/html": [
       "<table style=\"border:1px solid black;\">\n",
       "<tr style='border:1px solid black;color:black;background-color:#808080'>\n",
       "      <th colspan='2'><center>S</center></th></tr>\n",
       "<tr><th style='border:1px solid black;border-bottom-style: double;color:black;background-color:#BBBBBB'>\n",
       "      <center>true</center></th><th style='border:1px solid black;border-bottom-style: double;color:black;background-color:#BBBBBB'>\n",
       "      <center>false</center></th></tr>\n",
       "<tr><td style='color:black;background-color:#cbb264;text-align:right;'>0.4000</td><td style='color:black;background-color:#b2cb64;text-align:right;'>0.6000</td></tr>\n",
       "</table>"
      ],
      "text/plain": [
       "(pyAgrum.Potential<double>@0000024DE46AE0C0) \n",
       "  S                |\n",
       "true     |false    |\n",
       "---------|---------|\n",
       " 0.4000  | 0.6000  |"
      ]
     },
     "execution_count": 33,
     "metadata": {},
     "output_type": "execute_result"
    }
   ],
   "source": [
    "ie.makeInference()\n",
    "ie.setEvidence({'A':0})\n",
    "ie.makeInference()\n",
    "ie.posterior(S)"
   ]
  }
 ],
 "metadata": {
  "kernelspec": {
   "display_name": "Python 3 (ipykernel)",
   "language": "python",
   "name": "python3"
  },
  "language_info": {
   "codemirror_mode": {
    "name": "ipython",
    "version": 3
   },
   "file_extension": ".py",
   "mimetype": "text/x-python",
   "name": "python",
   "nbconvert_exporter": "python",
   "pygments_lexer": "ipython3",
   "version": "3.9.13"
  }
 },
 "nbformat": 4,
 "nbformat_minor": 4
}
