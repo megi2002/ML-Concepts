{
 "cells": [
  {
   "cell_type": "markdown",
   "metadata": {},
   "source": [
    "# Machine Learning and Decision Trees"
   ]
  },
  {
   "cell_type": "markdown",
   "metadata": {},
   "source": [
    "## Entropy \n",
    "\n",
    "We will look at how to measure entropy in a dataset/subdataset, which we will later reuse to calculate the information gain of each single feature.  \n",
    "The definition of entropy is a measure of uncertainty or chaos, and is given by the below equation.\n",
    "## $ Entropy = -\\sum_{e=1}^{n} (P(e).log_2(P(e))) $\n",
    "\n",
    "We'll first start by importing the necessary libraries."
   ]
  },
  {
   "cell_type": "code",
   "execution_count": 1,
   "metadata": {},
   "outputs": [],
   "source": [
    "from sklearn.utils import shuffle \n",
    "import numpy as np\n",
    "import pandas as pd"
   ]
  },
  {
   "cell_type": "markdown",
   "metadata": {},
   "source": [
    "The data we will be working with is the 'Software Defect Prediction Dataset' from NASA. It is composed of 498 samples (software (code) metrics). The dataset has 21 features (LOC, cyclomatic complexity, etc.).\n",
    "\n",
    "The variable to predict, **defect**, is encoded as true if a defect is predicted, or false otherwise.\n",
    "\n",
    "**Source: Sayyad Shirabad, J. and Menzies, T.J. (2005) The PROMISE Repository of Software Engineering Databases. School of Information Technology and Engineering, University of Ottawa, Canada . Available: http://promise.site.uottawa.ca/SERepository**\n"
   ]
  },
  {
   "cell_type": "code",
   "execution_count": 2,
   "metadata": {},
   "outputs": [
    {
     "name": "stdout",
     "output_type": "stream",
     "text": [
      "Attributes:  Index(['lines_code', 'cyclomatic_complexity', 'essential_complexity',\n",
      "       'design_complexity', 'tot_operators_operands', 'volume',\n",
      "       'program_length', 'difficulty', 'intelligence', 'effort', 'halstead',\n",
      "       'time_estimator', 'line_count_halstead', 'comments_count',\n",
      "       'blank_lines', 'tot_code_comment', 'unique_operators',\n",
      "       'unique_operands', 'total_operators', 'total_operands', 'branch_count',\n",
      "       'defect'],\n",
      "      dtype='object')\n",
      "Number of samples:  498\n"
     ]
    }
   ],
   "source": [
    "dataset = pd.read_csv(\"dataset.csv\",skipinitialspace=True)\n",
    "dataset=shuffle(dataset, random_state=100)\n",
    "print('Attributes: ', dataset.columns)\n",
    "print('Number of samples: ',len(dataset))"
   ]
  },
  {
   "cell_type": "code",
   "execution_count": 3,
   "metadata": {},
   "outputs": [
    {
     "name": "stdout",
     "output_type": "stream",
     "text": [
      "number of features: 21\n"
     ]
    }
   ],
   "source": [
    "print (\"number of features:\",len(dataset.columns)-1)"
   ]
  },
  {
   "cell_type": "markdown",
   "metadata": {},
   "source": [
    "### Examining the first 10 rows of the dataset"
   ]
  },
  {
   "cell_type": "code",
   "execution_count": 4,
   "metadata": {},
   "outputs": [
    {
     "data": {
      "text/html": [
       "<div>\n",
       "<style scoped>\n",
       "    .dataframe tbody tr th:only-of-type {\n",
       "        vertical-align: middle;\n",
       "    }\n",
       "\n",
       "    .dataframe tbody tr th {\n",
       "        vertical-align: top;\n",
       "    }\n",
       "\n",
       "    .dataframe thead th {\n",
       "        text-align: right;\n",
       "    }\n",
       "</style>\n",
       "<table border=\"1\" class=\"dataframe\">\n",
       "  <thead>\n",
       "    <tr style=\"text-align: right;\">\n",
       "      <th></th>\n",
       "      <th>lines_code</th>\n",
       "      <th>cyclomatic_complexity</th>\n",
       "      <th>essential_complexity</th>\n",
       "      <th>design_complexity</th>\n",
       "      <th>tot_operators_operands</th>\n",
       "      <th>volume</th>\n",
       "      <th>program_length</th>\n",
       "      <th>difficulty</th>\n",
       "      <th>intelligence</th>\n",
       "      <th>effort</th>\n",
       "      <th>...</th>\n",
       "      <th>line_count_halstead</th>\n",
       "      <th>comments_count</th>\n",
       "      <th>blank_lines</th>\n",
       "      <th>tot_code_comment</th>\n",
       "      <th>unique_operators</th>\n",
       "      <th>unique_operands</th>\n",
       "      <th>total_operators</th>\n",
       "      <th>total_operands</th>\n",
       "      <th>branch_count</th>\n",
       "      <th>defect</th>\n",
       "    </tr>\n",
       "  </thead>\n",
       "  <tbody>\n",
       "    <tr>\n",
       "      <th>103</th>\n",
       "      <td>30.0</td>\n",
       "      <td>4.0</td>\n",
       "      <td>1.0</td>\n",
       "      <td>4.0</td>\n",
       "      <td>122.0</td>\n",
       "      <td>630.73</td>\n",
       "      <td>0.05</td>\n",
       "      <td>20.71</td>\n",
       "      <td>30.45</td>\n",
       "      <td>13065.14</td>\n",
       "      <td>...</td>\n",
       "      <td>3</td>\n",
       "      <td>3</td>\n",
       "      <td>12</td>\n",
       "      <td>0</td>\n",
       "      <td>15.0</td>\n",
       "      <td>21.0</td>\n",
       "      <td>64.0</td>\n",
       "      <td>58.0</td>\n",
       "      <td>7.0</td>\n",
       "      <td>False</td>\n",
       "    </tr>\n",
       "    <tr>\n",
       "      <th>136</th>\n",
       "      <td>30.0</td>\n",
       "      <td>2.0</td>\n",
       "      <td>1.0</td>\n",
       "      <td>2.0</td>\n",
       "      <td>151.0</td>\n",
       "      <td>852.22</td>\n",
       "      <td>0.07</td>\n",
       "      <td>14.68</td>\n",
       "      <td>58.05</td>\n",
       "      <td>12512.17</td>\n",
       "      <td>...</td>\n",
       "      <td>0</td>\n",
       "      <td>6</td>\n",
       "      <td>5</td>\n",
       "      <td>0</td>\n",
       "      <td>17.0</td>\n",
       "      <td>33.0</td>\n",
       "      <td>94.0</td>\n",
       "      <td>57.0</td>\n",
       "      <td>3.0</td>\n",
       "      <td>False</td>\n",
       "    </tr>\n",
       "    <tr>\n",
       "      <th>140</th>\n",
       "      <td>6.0</td>\n",
       "      <td>1.0</td>\n",
       "      <td>1.0</td>\n",
       "      <td>1.0</td>\n",
       "      <td>8.0</td>\n",
       "      <td>22.46</td>\n",
       "      <td>0.50</td>\n",
       "      <td>2.00</td>\n",
       "      <td>11.23</td>\n",
       "      <td>44.92</td>\n",
       "      <td>...</td>\n",
       "      <td>0</td>\n",
       "      <td>0</td>\n",
       "      <td>0</td>\n",
       "      <td>0</td>\n",
       "      <td>4.0</td>\n",
       "      <td>3.0</td>\n",
       "      <td>5.0</td>\n",
       "      <td>3.0</td>\n",
       "      <td>1.0</td>\n",
       "      <td>False</td>\n",
       "    </tr>\n",
       "    <tr>\n",
       "      <th>459</th>\n",
       "      <td>12.0</td>\n",
       "      <td>1.0</td>\n",
       "      <td>1.0</td>\n",
       "      <td>1.0</td>\n",
       "      <td>37.0</td>\n",
       "      <td>159.91</td>\n",
       "      <td>0.11</td>\n",
       "      <td>9.00</td>\n",
       "      <td>17.77</td>\n",
       "      <td>1439.20</td>\n",
       "      <td>...</td>\n",
       "      <td>0</td>\n",
       "      <td>1</td>\n",
       "      <td>7</td>\n",
       "      <td>0</td>\n",
       "      <td>12.0</td>\n",
       "      <td>8.0</td>\n",
       "      <td>25.0</td>\n",
       "      <td>12.0</td>\n",
       "      <td>1.0</td>\n",
       "      <td>True</td>\n",
       "    </tr>\n",
       "    <tr>\n",
       "      <th>353</th>\n",
       "      <td>25.0</td>\n",
       "      <td>5.0</td>\n",
       "      <td>1.0</td>\n",
       "      <td>4.0</td>\n",
       "      <td>100.0</td>\n",
       "      <td>552.36</td>\n",
       "      <td>0.05</td>\n",
       "      <td>20.16</td>\n",
       "      <td>27.40</td>\n",
       "      <td>11135.50</td>\n",
       "      <td>...</td>\n",
       "      <td>2</td>\n",
       "      <td>0</td>\n",
       "      <td>5</td>\n",
       "      <td>0</td>\n",
       "      <td>21.0</td>\n",
       "      <td>25.0</td>\n",
       "      <td>52.0</td>\n",
       "      <td>48.0</td>\n",
       "      <td>9.0</td>\n",
       "      <td>False</td>\n",
       "    </tr>\n",
       "    <tr>\n",
       "      <th>188</th>\n",
       "      <td>92.0</td>\n",
       "      <td>15.0</td>\n",
       "      <td>15.0</td>\n",
       "      <td>15.0</td>\n",
       "      <td>466.0</td>\n",
       "      <td>2643.35</td>\n",
       "      <td>0.02</td>\n",
       "      <td>57.00</td>\n",
       "      <td>46.37</td>\n",
       "      <td>150670.96</td>\n",
       "      <td>...</td>\n",
       "      <td>27</td>\n",
       "      <td>41</td>\n",
       "      <td>67</td>\n",
       "      <td>0</td>\n",
       "      <td>19.0</td>\n",
       "      <td>32.0</td>\n",
       "      <td>274.0</td>\n",
       "      <td>192.0</td>\n",
       "      <td>29.0</td>\n",
       "      <td>False</td>\n",
       "    </tr>\n",
       "    <tr>\n",
       "      <th>111</th>\n",
       "      <td>8.0</td>\n",
       "      <td>1.0</td>\n",
       "      <td>1.0</td>\n",
       "      <td>1.0</td>\n",
       "      <td>11.0</td>\n",
       "      <td>30.88</td>\n",
       "      <td>0.38</td>\n",
       "      <td>2.67</td>\n",
       "      <td>11.58</td>\n",
       "      <td>82.35</td>\n",
       "      <td>...</td>\n",
       "      <td>0</td>\n",
       "      <td>0</td>\n",
       "      <td>3</td>\n",
       "      <td>0</td>\n",
       "      <td>4.0</td>\n",
       "      <td>3.0</td>\n",
       "      <td>7.0</td>\n",
       "      <td>4.0</td>\n",
       "      <td>1.0</td>\n",
       "      <td>False</td>\n",
       "    </tr>\n",
       "    <tr>\n",
       "      <th>160</th>\n",
       "      <td>6.0</td>\n",
       "      <td>1.0</td>\n",
       "      <td>1.0</td>\n",
       "      <td>1.0</td>\n",
       "      <td>6.0</td>\n",
       "      <td>15.51</td>\n",
       "      <td>0.50</td>\n",
       "      <td>2.00</td>\n",
       "      <td>7.75</td>\n",
       "      <td>31.02</td>\n",
       "      <td>...</td>\n",
       "      <td>0</td>\n",
       "      <td>0</td>\n",
       "      <td>0</td>\n",
       "      <td>0</td>\n",
       "      <td>4.0</td>\n",
       "      <td>2.0</td>\n",
       "      <td>4.0</td>\n",
       "      <td>2.0</td>\n",
       "      <td>1.0</td>\n",
       "      <td>False</td>\n",
       "    </tr>\n",
       "    <tr>\n",
       "      <th>494</th>\n",
       "      <td>24.0</td>\n",
       "      <td>4.0</td>\n",
       "      <td>3.0</td>\n",
       "      <td>3.0</td>\n",
       "      <td>107.0</td>\n",
       "      <td>587.63</td>\n",
       "      <td>0.05</td>\n",
       "      <td>19.13</td>\n",
       "      <td>30.72</td>\n",
       "      <td>11241.58</td>\n",
       "      <td>...</td>\n",
       "      <td>1</td>\n",
       "      <td>7</td>\n",
       "      <td>4</td>\n",
       "      <td>0</td>\n",
       "      <td>22.0</td>\n",
       "      <td>23.0</td>\n",
       "      <td>67.0</td>\n",
       "      <td>40.0</td>\n",
       "      <td>7.0</td>\n",
       "      <td>True</td>\n",
       "    </tr>\n",
       "    <tr>\n",
       "      <th>51</th>\n",
       "      <td>21.0</td>\n",
       "      <td>4.0</td>\n",
       "      <td>1.0</td>\n",
       "      <td>4.0</td>\n",
       "      <td>77.0</td>\n",
       "      <td>391.73</td>\n",
       "      <td>0.13</td>\n",
       "      <td>7.64</td>\n",
       "      <td>51.30</td>\n",
       "      <td>2991.43</td>\n",
       "      <td>...</td>\n",
       "      <td>0</td>\n",
       "      <td>23</td>\n",
       "      <td>55</td>\n",
       "      <td>0</td>\n",
       "      <td>12.0</td>\n",
       "      <td>22.0</td>\n",
       "      <td>49.0</td>\n",
       "      <td>28.0</td>\n",
       "      <td>7.0</td>\n",
       "      <td>False</td>\n",
       "    </tr>\n",
       "  </tbody>\n",
       "</table>\n",
       "<p>10 rows × 22 columns</p>\n",
       "</div>"
      ],
      "text/plain": [
       "     lines_code  cyclomatic_complexity  essential_complexity  \\\n",
       "103        30.0                    4.0                   1.0   \n",
       "136        30.0                    2.0                   1.0   \n",
       "140         6.0                    1.0                   1.0   \n",
       "459        12.0                    1.0                   1.0   \n",
       "353        25.0                    5.0                   1.0   \n",
       "188        92.0                   15.0                  15.0   \n",
       "111         8.0                    1.0                   1.0   \n",
       "160         6.0                    1.0                   1.0   \n",
       "494        24.0                    4.0                   3.0   \n",
       "51         21.0                    4.0                   1.0   \n",
       "\n",
       "     design_complexity  tot_operators_operands   volume  program_length  \\\n",
       "103                4.0                   122.0   630.73            0.05   \n",
       "136                2.0                   151.0   852.22            0.07   \n",
       "140                1.0                     8.0    22.46            0.50   \n",
       "459                1.0                    37.0   159.91            0.11   \n",
       "353                4.0                   100.0   552.36            0.05   \n",
       "188               15.0                   466.0  2643.35            0.02   \n",
       "111                1.0                    11.0    30.88            0.38   \n",
       "160                1.0                     6.0    15.51            0.50   \n",
       "494                3.0                   107.0   587.63            0.05   \n",
       "51                 4.0                    77.0   391.73            0.13   \n",
       "\n",
       "     difficulty  intelligence     effort  ...  line_count_halstead  \\\n",
       "103       20.71         30.45   13065.14  ...                    3   \n",
       "136       14.68         58.05   12512.17  ...                    0   \n",
       "140        2.00         11.23      44.92  ...                    0   \n",
       "459        9.00         17.77    1439.20  ...                    0   \n",
       "353       20.16         27.40   11135.50  ...                    2   \n",
       "188       57.00         46.37  150670.96  ...                   27   \n",
       "111        2.67         11.58      82.35  ...                    0   \n",
       "160        2.00          7.75      31.02  ...                    0   \n",
       "494       19.13         30.72   11241.58  ...                    1   \n",
       "51         7.64         51.30    2991.43  ...                    0   \n",
       "\n",
       "     comments_count  blank_lines  tot_code_comment  unique_operators  \\\n",
       "103               3           12                 0              15.0   \n",
       "136               6            5                 0              17.0   \n",
       "140               0            0                 0               4.0   \n",
       "459               1            7                 0              12.0   \n",
       "353               0            5                 0              21.0   \n",
       "188              41           67                 0              19.0   \n",
       "111               0            3                 0               4.0   \n",
       "160               0            0                 0               4.0   \n",
       "494               7            4                 0              22.0   \n",
       "51               23           55                 0              12.0   \n",
       "\n",
       "     unique_operands  total_operators  total_operands  branch_count  defect  \n",
       "103             21.0             64.0            58.0           7.0   False  \n",
       "136             33.0             94.0            57.0           3.0   False  \n",
       "140              3.0              5.0             3.0           1.0   False  \n",
       "459              8.0             25.0            12.0           1.0    True  \n",
       "353             25.0             52.0            48.0           9.0   False  \n",
       "188             32.0            274.0           192.0          29.0   False  \n",
       "111              3.0              7.0             4.0           1.0   False  \n",
       "160              2.0              4.0             2.0           1.0   False  \n",
       "494             23.0             67.0            40.0           7.0    True  \n",
       "51              22.0             49.0            28.0           7.0   False  \n",
       "\n",
       "[10 rows x 22 columns]"
      ]
     },
     "execution_count": 4,
     "metadata": {},
     "output_type": "execute_result"
    }
   ],
   "source": [
    "dataset.head(10)"
   ]
  },
  {
   "cell_type": "markdown",
   "metadata": {},
   "source": [
    "**1:**   \n",
    "The function entropy takes two arguments, the dataset and the name of the class column. Then returns the entropy of the dataset for the class **defect**.\n"
   ]
  },
  {
   "cell_type": "code",
   "execution_count": 5,
   "metadata": {},
   "outputs": [],
   "source": [
    "def entropy(dataset,Class):\n",
    "    probs = (dataset[Class]).value_counts(normalize=True)\n",
    "    entropy = -1 * np.sum(np.log2(probs) * probs)\n",
    "    return entropy"
   ]
  },
  {
   "cell_type": "markdown",
   "metadata": {},
   "source": [
    "**2:**  \n",
    "Calculating the entropy of the dataset"
   ]
  },
  {
   "cell_type": "code",
   "execution_count": 6,
   "metadata": {},
   "outputs": [
    {
     "data": {
      "text/plain": [
       "0.46388256186643395"
      ]
     },
     "execution_count": 6,
     "metadata": {},
     "output_type": "execute_result"
    }
   ],
   "source": [
    "entropy(dataset, \"defect\")"
   ]
  },
  {
   "cell_type": "markdown",
   "metadata": {},
   "source": [
    "## Information Gain\n",
    "\n",
    "Information gain measures the decrease in entropy after a dataset is split on a feature.\n",
    "Now we calculate the information gain of a dataset given a candidate split_feature.\n",
    "\n",
    "## $ information\\_gain(S,A) = Entropy(S)-\\sum_{i=1}^{n}(\\frac{|Si|}{|S|}Entropy(S|A=i))$\n",
    "**1:**  \n",
    "The information_gain function takes as parameters:\n",
    "\n",
    "1. The dataset.\n",
    "2. The name of class column. (**defect** in our case)\n",
    "3. A feature. (the name of a feature, **lines_code** for example)"
   ]
  },
  {
   "cell_type": "code",
   "execution_count": 7,
   "metadata": {},
   "outputs": [],
   "source": [
    "def information_gain(dataset, Class, feature):\n",
    "    \n",
    "    values = np.unique(dataset[feature])\n",
    "    summ = 0\n",
    "    for i in values:\n",
    "        newdataset = dataset[(dataset[feature] == i)]\n",
    "        summ = summ + (len(newdataset)/len(dataset))*entropy(newdataset, Class)\n",
    "\n",
    "    return entropy(dataset, Class) - summ"
   ]
  },
  {
   "cell_type": "markdown",
   "metadata": {},
   "source": [
    "**2:**  \n",
    "Calculating the information gain of feature/attribute **lines_code**."
   ]
  },
  {
   "cell_type": "code",
   "execution_count": 8,
   "metadata": {},
   "outputs": [
    {
     "data": {
      "text/plain": [
       "0.24212039188327106"
      ]
     },
     "execution_count": 8,
     "metadata": {},
     "output_type": "execute_result"
    }
   ],
   "source": [
    "information_gain(dataset,\"defect\",\"lines_code\")"
   ]
  },
  {
   "cell_type": "markdown",
   "metadata": {},
   "source": [
    "#### 3:\n",
    "Calculating the information gain for all the features in the dataset"
   ]
  },
  {
   "cell_type": "code",
   "execution_count": 9,
   "metadata": {},
   "outputs": [
    {
     "name": "stdout",
     "output_type": "stream",
     "text": [
      "Information gain of lines_code is:  0.24212039188327106\n",
      "Information gain of cyclomatic_complexity is:  0.0901739075136817\n",
      "Information gain of essential_complexity is:  0.03390338687411826\n",
      "Information gain of design_complexity is:  0.10373962126409608\n",
      "Information gain of tot_operators_operands is:  0.3602487456527055\n",
      "Information gain of volume is:  0.45585043335237774\n",
      "Information gain of program_length is:  0.07743932213275445\n",
      "Information gain of difficulty is:  0.41125845324089083\n",
      "Information gain of intelligence is:  0.4342542737094792\n",
      "Information gain of effort is:  0.45585043335237774\n",
      "Information gain of halstead is:  0.25449473770322945\n",
      "Information gain of time_estimator is:  0.45585043335237774\n",
      "Information gain of line_count_halstead is:  0.07055172146011729\n",
      "Information gain of comments_count is:  0.1882490302783989\n",
      "Information gain of blank_lines is:  0.12910849171382466\n",
      "Information gain of tot_code_comment is:  0.007038857377542451\n",
      "Information gain of unique_operators is:  0.12154460275661882\n",
      "Information gain of unique_operands is:  0.21205114829951638\n",
      "Information gain of total_operators is:  0.31916109608633697\n",
      "Information gain of total_operands is:  0.2782944386139077\n",
      "Information gain of branch_count is:  0.09298458599654857\n"
     ]
    }
   ],
   "source": [
    "print('Information gain of lines_code is: ', information_gain(dataset,\"defect\",\"lines_code\"))\n",
    "print('Information gain of cyclomatic_complexity is: ', information_gain(dataset,\"defect\",\"cyclomatic_complexity\"))\n",
    "print('Information gain of essential_complexity is: ', information_gain(dataset,\"defect\",\"essential_complexity\"))\n",
    "print('Information gain of design_complexity is: ', information_gain(dataset,\"defect\",\"design_complexity\"))\n",
    "print('Information gain of tot_operators_operands is: ', information_gain(dataset,\"defect\",\"tot_operators_operands\"))\n",
    "print('Information gain of volume is: ', information_gain(dataset,\"defect\",\"volume\"))\n",
    "print('Information gain of program_length is: ', information_gain(dataset,\"defect\",\"program_length\"))\n",
    "print('Information gain of difficulty is: ', information_gain(dataset,\"defect\",\"difficulty\"))\n",
    "print('Information gain of intelligence is: ', information_gain(dataset,\"defect\",\"intelligence\"))\n",
    "print('Information gain of effort is: ', information_gain(dataset,\"defect\",\"effort\"))\n",
    "print('Information gain of halstead is: ', information_gain(dataset,\"defect\",\"halstead\"))\n",
    "print('Information gain of time_estimator is: ', information_gain(dataset,\"defect\",\"time_estimator\"))\n",
    "print('Information gain of line_count_halstead is: ', information_gain(dataset,\"defect\",\"line_count_halstead\"))\n",
    "print('Information gain of comments_count is: ', information_gain(dataset,\"defect\",\"comments_count\"))\n",
    "print('Information gain of blank_lines is: ', information_gain(dataset,\"defect\",\"blank_lines\"))\n",
    "print('Information gain of tot_code_comment is: ', information_gain(dataset,\"defect\",\"tot_code_comment\"))\n",
    "print('Information gain of unique_operators is: ', information_gain(dataset,\"defect\",\"unique_operators\"))\n",
    "print('Information gain of unique_operands is: ', information_gain(dataset,\"defect\",\"unique_operands\"))\n",
    "print('Information gain of total_operators is: ', information_gain(dataset,\"defect\",\"total_operators\"))\n",
    "print('Information gain of total_operands is: ', information_gain(dataset,\"defect\",\"total_operands\"))\n",
    "print('Information gain of branch_count is: ', information_gain(dataset,\"defect\",\"branch_count\"))"
   ]
  },
  {
   "cell_type": "markdown",
   "metadata": {},
   "source": [
    "## Splitting Datasets Based on Information Gain\n",
    "We split a dataset based on the feature which brings the highest information gain. First we find the attribute that maximize the information gain, then split the dataset based on it.  \n",
    "\n",
    "The function **feature_to_split_on(dataset,Class, features)** takes as arguments the **dataset**, the **class name** and the **features**. It then returns the name of the attribute upon which the dataset will be split."
   ]
  },
  {
   "cell_type": "code",
   "execution_count": 10,
   "metadata": {},
   "outputs": [],
   "source": [
    "def feature_to_split_on(dataset, Class,features):\n",
    "    max_gain = 0\n",
    "    split = ''\n",
    "    for col in features:\n",
    "        if col != Class:\n",
    "            if information_gain(dataset, Class, col) > max_gain:\n",
    "                split = col\n",
    "                max_gain = information_gain(dataset, Class, col)\n",
    "    return split"
   ]
  },
  {
   "cell_type": "code",
   "execution_count": 11,
   "metadata": {},
   "outputs": [
    {
     "name": "stdout",
     "output_type": "stream",
     "text": [
      "volume\n"
     ]
    }
   ],
   "source": [
    "print(feature_to_split_on(dataset, 'defect', dataset.columns ))"
   ]
  },
  {
   "cell_type": "markdown",
   "metadata": {},
   "source": [
    "The function **split_dataset(dataset,feature)** takes as parameters:  \n",
    "1. A dataset.\n",
    "2. A feature. (the feature upon which we will split the dataset)  \n",
    "It returns an array of subdatasets (in the form of dataframes)  \n"
   ]
  },
  {
   "cell_type": "code",
   "execution_count": 12,
   "metadata": {},
   "outputs": [],
   "source": [
    "def split_dataset(dataset, feature):\n",
    "    subsets = []\n",
    "    for layer in dataset[feature].value_counts():\n",
    "        feature_layer = dataset[dataset[feature]==layer]\n",
    "        subsets.append(feature_layer)\n",
    "        \n",
    "    return subsets"
   ]
  },
  {
   "cell_type": "markdown",
   "metadata": {},
   "source": [
    "Counting the number of splits returned when we use the feature **volume**"
   ]
  },
  {
   "cell_type": "code",
   "execution_count": 13,
   "metadata": {},
   "outputs": [
    {
     "name": "stdout",
     "output_type": "stream",
     "text": [
      "387\n"
     ]
    }
   ],
   "source": [
    "print(len(split_dataset(dataset,'volume')))"
   ]
  },
  {
   "cell_type": "markdown",
   "metadata": {},
   "source": [
    "## Iterative Dichotomiser \n",
    "\n"
   ]
  },
  {
   "cell_type": "markdown",
   "metadata": {},
   "source": [
    "The function **train_test_split(dataset, ratio)** takes a dataset as an input and returns two datasets one for training and another for testing. The ratio specifies the percentage of datapoints dedicated for testing.\n",
    "\n",
    "For the example dataset, we have 498 rows and so calling the function with the parameters (dataset, 0.25) will return a training set with 373 rows and a testing set with 125 rows."
   ]
  },
  {
   "cell_type": "code",
   "execution_count": 40,
   "metadata": {},
   "outputs": [],
   "source": [
    "def train_test_splitt(dataset, ratio):\n",
    "    testing_set = dataset.sample(frac=ratio) \n",
    "    training_set = dataset.drop(testing_set.index)\n",
    "    return training_set, testing_set"
   ]
  },
  {
   "cell_type": "code",
   "execution_count": 48,
   "metadata": {
    "scrolled": true
   },
   "outputs": [
    {
     "name": "stdout",
     "output_type": "stream",
     "text": [
      "train.shape:  (373, 22)\n",
      "test.shape:  (125, 22)\n"
     ]
    }
   ],
   "source": [
    "train, test = train_test_splitt(dataset, 0.251)\n",
    "print(\"train.shape: \", train.shape)\n",
    "print(\"test.shape: \", test.shape)"
   ]
  },
  {
   "cell_type": "markdown",
   "metadata": {},
   "source": [
    "Now we work with a given implementation of the iterative dichotomiser to check how the model does."
   ]
  },
  {
   "cell_type": "markdown",
   "metadata": {},
   "source": [
    "### Installing the library"
   ]
  },
  {
   "cell_type": "code",
   "execution_count": 16,
   "metadata": {
    "scrolled": true
   },
   "outputs": [
    {
     "name": "stdout",
     "output_type": "stream",
     "text": [
      "Requirement already satisfied: decision-tree-id3 in c:\\users\\zameg\\anaconda3\\lib\\site-packages (0.1.2)\n",
      "Requirement already satisfied: numpy>=1.6.1 in c:\\users\\zameg\\anaconda3\\lib\\site-packages (from decision-tree-id3) (1.21.5)\n",
      "Requirement already satisfied: nose>=1.1.2 in c:\\users\\zameg\\anaconda3\\lib\\site-packages (from decision-tree-id3) (1.3.7)\n",
      "Requirement already satisfied: scikit-learn>=0.17 in c:\\users\\zameg\\anaconda3\\lib\\site-packages (from decision-tree-id3) (1.0.2)\n",
      "Requirement already satisfied: threadpoolctl>=2.0.0 in c:\\users\\zameg\\anaconda3\\lib\\site-packages (from scikit-learn>=0.17->decision-tree-id3) (2.2.0)\n",
      "Requirement already satisfied: scipy>=1.1.0 in c:\\users\\zameg\\anaconda3\\lib\\site-packages (from scikit-learn>=0.17->decision-tree-id3) (1.9.1)\n",
      "Requirement already satisfied: joblib>=0.11 in c:\\users\\zameg\\anaconda3\\lib\\site-packages (from scikit-learn>=0.17->decision-tree-id3) (1.1.0)\n"
     ]
    }
   ],
   "source": [
    "!pip install decision-tree-id3"
   ]
  },
  {
   "cell_type": "code",
   "execution_count": 17,
   "metadata": {},
   "outputs": [],
   "source": [
    "import six\n",
    "import sys\n",
    "sys.modules['sklearn.externals.six'] = six"
   ]
  },
  {
   "cell_type": "markdown",
   "metadata": {},
   "source": [
    "### Importing the classifier"
   ]
  },
  {
   "cell_type": "code",
   "execution_count": 18,
   "metadata": {},
   "outputs": [],
   "source": [
    "from id3 import Id3Estimator"
   ]
  },
  {
   "cell_type": "markdown",
   "metadata": {},
   "source": [
    "### Adapting our train and test sets to what the classifier expects"
   ]
  },
  {
   "cell_type": "code",
   "execution_count": 19,
   "metadata": {},
   "outputs": [],
   "source": [
    "trainX=train.drop(['defect'],axis=1)\n",
    "trainY=train.filter(['defect'])\n",
    "testX=test.drop(['defect'],axis=1)\n",
    "testY=test.filter(['defect'])"
   ]
  },
  {
   "cell_type": "markdown",
   "metadata": {},
   "source": [
    "### Training and using the classifier"
   ]
  },
  {
   "cell_type": "code",
   "execution_count": 47,
   "metadata": {
    "scrolled": false
   },
   "outputs": [
    {
     "name": "stdout",
     "output_type": "stream",
     "text": [
      "Accuracy on train set is 100.0 %\n",
      "The indexes of the misclassified rows\n",
      "[]\n",
      "____\n",
      "\n",
      "Accuracy on test set is 85.6 %\n",
      "The indexes of the misclassified rows\n",
      "[1, 6, 7, 8, 14, 19, 32, 35, 38, 43, 46, 65, 75, 82, 85, 94, 96, 113]\n",
      "Predicted True , Actual False\n",
      "Predicted True , Actual False\n",
      "Predicted False , Actual True\n",
      "Predicted True , Actual False\n",
      "Predicted False , Actual True\n",
      "Predicted False , Actual True\n",
      "Predicted True , Actual False\n",
      "Predicted False , Actual True\n",
      "Predicted False , Actual True\n",
      "Predicted False , Actual True\n",
      "Predicted False , Actual True\n",
      "Predicted True , Actual False\n",
      "Predicted False , Actual True\n",
      "Predicted True , Actual False\n",
      "Predicted False , Actual True\n",
      "Predicted True , Actual False\n",
      "Predicted True , Actual False\n",
      "Predicted False , Actual True\n"
     ]
    }
   ],
   "source": [
    "estimator = Id3Estimator()\n",
    "estimator.fit(trainX, trainY.values.ravel())\n",
    "predictions=estimator.predict(trainX)\n",
    "correct=[]\n",
    "for i in range(0,len(trainY)):\n",
    "    if trainY.iat[i,0]==predictions[i]:\n",
    "        correct.append(1)\n",
    "    else:\n",
    "        correct.append(0)\n",
    "print(\"Accuracy on train set is\",sum(correct)/len(trainY)*100,\"%\")\n",
    "print(\"The indexes of the misclassified rows\")\n",
    "print([i for i, x in enumerate(correct) if x == 0])\n",
    "for i in [i for i, x in enumerate(correct) if x == 0]:\n",
    "    print(\"Predicted\", predictions[i], \", Actual\", trainY.iat[i,0])\n",
    "predictions=estimator.predict(testX)\n",
    "correct=[]\n",
    "for i in range(0,len(testY)):\n",
    "    if testY.iat[i,0]==predictions[i]:\n",
    "        correct.append(1)\n",
    "    else:\n",
    "        correct.append(0)\n",
    "print(\"____\\n\")\n",
    "print(\"Accuracy on test set is\",sum(correct)/len(testY)*100,\"%\")\n",
    "print(\"The indexes of the misclassified rows\")\n",
    "print([i for i, x in enumerate(correct) if x == 0])\n",
    "for i in [i for i, x in enumerate(correct) if x == 0]:\n",
    "    print(\"Predicted\", predictions[i], \", Actual\", testY.iat[i,0])"
   ]
  },
  {
   "cell_type": "markdown",
   "metadata": {},
   "source": [
    "**85% accuracy** sounds like a decent result given the size of our dataset (and the fact that we didn't do any feature engineering). This however is incorrect as the dataset is imbalanced, and the data points labelled as **false** (no defect) are the dominant class.\n",
    "\n",
    "Given the results above, we calculate the recall and precision of the class defect (denoted as **true** in the dataset).\n",
    "\n",
    "We count the TP, FP, TN, FN, by comparing the array of predictions to that of the actual labels (available in testY). Then we calculate the precision and the recall for the class **defect**."
   ]
  },
  {
   "cell_type": "code",
   "execution_count": 46,
   "metadata": {
    "scrolled": true
   },
   "outputs": [
    {
     "name": "stdout",
     "output_type": "stream",
     "text": [
      "Recall for class defect (true)  0.16666666666666666\n",
      "Precision for class defect (true)  0.2\n"
     ]
    }
   ],
   "source": [
    "TP = 0\n",
    "FP = 0\n",
    "TN = 0\n",
    "FN = 0\n",
    "\n",
    "for i in range(len(testY)): \n",
    "    if testY.iat[i,0]==predictions[i]==1:\n",
    "        TP += 1\n",
    "    if predictions[i]==1 and testY.iat[i,0]!=predictions[i]:\n",
    "        FP += 1\n",
    "    if testY.iat[i,0]==predictions[i]==0:\n",
    "        TN += 1\n",
    "    if predictions[i]==0 and testY.iat[i,0]!=predictions[i]:\n",
    "        FN += 1\n",
    "\n",
    "recall = TP/(TP + FN)\n",
    "precision = TP/(TP + FP)\n",
    "\n",
    "\n",
    "print('Recall for class defect (true) ', recall)\n",
    "print('Precision for class defect (true) ', precision)"
   ]
  },
  {
   "cell_type": "markdown",
   "metadata": {},
   "source": [
    "**The precision and recall of the model are so low, indicating that the model fails to generalize**."
   ]
  },
  {
   "cell_type": "markdown",
   "metadata": {},
   "source": [
    "## Compairing our Decision Tree with SKlearn's\n",
    "\n",
    "\n",
    "We use the **DecisionTreeClassifier** available in the **sklearn** library to train a decision tree model on the dataset we've been working on so far.    \n",
    "\n",
    "We fine-tune the treeclassifier, using **entropy** not **gini**.           \n",
    "Then we check the accuracy of the sklearn classifier and compare it to the one we implemented (partly).  \n",
    "\n",
    "Showing the following:\n",
    "\n",
    "\n",
    "- The accuracy of the model on the test set.\n",
    "\n",
    "- The recall of the class **defective** (true).\n",
    "\n",
    "- The precision of the class **defective** (true).\n",
    "\n",
    "- The confusion matrix using sklearn. \n"
   ]
  },
  {
   "cell_type": "code",
   "execution_count": 22,
   "metadata": {},
   "outputs": [],
   "source": [
    "from matplotlib import pyplot as plt\n",
    "from sklearn import preprocessing\n",
    "from sklearn import tree\n",
    "from sklearn.metrics import accuracy_score, confusion_matrix, precision_score, recall_score\n",
    "from sklearn.model_selection import train_test_split"
   ]
  },
  {
   "cell_type": "code",
   "execution_count": 49,
   "metadata": {
    "scrolled": false
   },
   "outputs": [
    {
     "name": "stdout",
     "output_type": "stream",
     "text": [
      "The accuracy of the model on the test set is:   85.6 %\n",
      "Recall  0.25\n",
      "Precision  0.25\n",
      "Confusion Matrix  [[104   9]\n",
      " [  9   3]]\n"
     ]
    },
    {
     "data": {
      "image/png": "[encoded data removed]",
      "text/plain": [
       "<Figure size 640x480 with 1 Axes>"
      ]
     },
     "metadata": {},
     "output_type": "display_data"
    }
   ],
   "source": [
    "features = dataset.drop(dataset.columns[-1:], axis=1)\n",
    "labels = dataset.drop(dataset.columns[:-1], axis=1)\n",
    "X_train, X_test, y_train, y_test = train_test_split(features, labels)\n",
    "\n",
    "model = tree.DecisionTreeClassifier(criterion='entropy')\n",
    "model = model.fit(trainX, trainY)\n",
    "y_pred = model.predict(testX)\n",
    "\n",
    "accuracy = accuracy_score(testY, y_pred)\n",
    "recall = recall_score(testY, y_pred)\n",
    "precision = precision_score(testY, y_pred)\n",
    "cm = confusion_matrix(testY, y_pred)\n",
    "\n",
    "print(\"The accuracy of the model on the test set is:  \", accuracy*100, \"%\")\n",
    "print(\"Recall \", recall)\n",
    "print(\"Precision \", precision)\n",
    "print(\"Confusion Matrix \", cm)\n",
    "\n",
    "tree.plot_tree(model, feature_names=trainX.columns, max_depth=2, filled=True);"
   ]
  },
  {
   "cell_type": "markdown",
   "metadata": {},
   "source": [
    "Using **matplotlib** we visualize the induced decision tree."
   ]
  },
  {
   "cell_type": "code",
   "execution_count": 50,
   "metadata": {
    "scrolled": true
   },
   "outputs": [
    {
     "data": {
      "image/png": "[encoded data removed]",
      "text/plain": [
       "<Figure size 640x480 with 1 Axes>"
      ]
     },
     "metadata": {},
     "output_type": "display_data"
    }
   ],
   "source": [
    "tree.plot_tree(model, feature_names=trainX.columns, filled=True);"
   ]
  },
  {
   "cell_type": "markdown",
   "metadata": {},
   "source": [
    "## k-Fold cross validation\n",
    "\n",
    "We assess the performance of the implemented Decision Tree using k-Fold cross validation\n",
    "We run the implemented function evaluating for k = 2, 5 and 10. "
   ]
  },
  {
   "cell_type": "code",
   "execution_count": 51,
   "metadata": {},
   "outputs": [],
   "source": [
    "from sklearn.model_selection import KFold\n",
    "import numpy as np\n",
    "from sklearn.utils import shuffle\n",
    "import pandas as pd\n",
    "from sklearn.model_selection import cross_val_score"
   ]
  },
  {
   "cell_type": "code",
   "execution_count": 52,
   "metadata": {
    "scrolled": true
   },
   "outputs": [],
   "source": [
    "def evaluate(n):\n",
    "    cv = KFold(n_splits=n)\n",
    "    scores = cross_val_score(model, trainX, trainY, scoring='accuracy', cv=cv, n_jobs=-1)\n",
    "    return scores"
   ]
  },
  {
   "cell_type": "code",
   "execution_count": 53,
   "metadata": {
    "scrolled": false
   },
   "outputs": [
    {
     "name": "stdout",
     "output_type": "stream",
     "text": [
      "Accuracy k2: 0.842 (0.002)\n",
      "Accuracy k5: 0.812 (0.047)\n",
      "Accuracy k10: 0.799 (0.071)\n"
     ]
    }
   ],
   "source": [
    "s2 = evaluate(2)\n",
    "s5 = evaluate(5)\n",
    "s10 = evaluate(10)\n",
    "print('Accuracy k2: %.3f (%.3f)' % (np.mean(s2), np.std(s2)))\n",
    "print('Accuracy k5: %.3f (%.3f)' % (np.mean(s5), np.std(s5)))\n",
    "print('Accuracy k10: %.3f (%.3f)' % (np.mean(s10), np.std(s10)))"
   ]
  }
 ],
 "metadata": {
  "kernelspec": {
   "display_name": "Python 3 (ipykernel)",
   "language": "python",
   "name": "python3"
  },
  "language_info": {
   "codemirror_mode": {
    "name": "ipython",
    "version": 3
   },
   "file_extension": ".py",
   "mimetype": "text/x-python",
   "name": "python",
   "nbconvert_exporter": "python",
   "pygments_lexer": "ipython3",
   "version": "3.9.13"
  }
 },
 "nbformat": 4,
 "nbformat_minor": 4
}
